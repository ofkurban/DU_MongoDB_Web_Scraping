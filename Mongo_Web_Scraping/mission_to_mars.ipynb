{
 "cells": [
  {
   "cell_type": "code",
   "execution_count": 11,
   "metadata": {
    "collapsed": true
   },
   "outputs": [],
   "source": [
    "# DEPENDENCIES\n",
    "from splinter import Browser\n",
    "from bs4 import BeautifulSoup\n",
    "import pandas as pd\n",
    "import requests as req"
   ]
  },
  {
   "cell_type": "code",
   "execution_count": 12,
   "metadata": {
    "collapsed": true
   },
   "outputs": [],
   "source": [
    "# Go to NASA Mars News Site URl (https://mars.nasa.gov/news/) and print the latest News Title and Paragraph Text\n",
    "news_title = soup.filled(\"p\",\"story\")\n",
    "news_title.find_next_siblings(\"a\")\n",
    "news_p = soup.filled(\"p\",\"story\")\n",
    "news_p.find_next_sibling(\"a\")"
   ]
  },
  {
   "cell_type": "code",
   "execution_count": 13,
   "metadata": {
    "collapsed": true
   },
   "outputs": [],
   "source": [
    "# Go to JPL Mars Space Images - Featured Image URL(https://www.jpl.nasa.gov/spaceimages/?search=&category=Mars)\n",
    "# Use splinter to navigate the site and find the image url for the current Featured Mars Image and assign the url string to a variable. \n",
    "featured_image_url = soup.filled(\"\")\n",
    "featured_image_url = find_next_siblings(\"\")"
   ]
  },
  {
   "cell_type": "code",
   "execution_count": 14,
   "metadata": {
    "collapsed": true
   },
   "outputs": [],
   "source": [
    "# Go to Mars Weather twitter account URL (https://twitter.com/marswxreport?lang=en)\n",
    "mars_weather = soup.filled(\"title\")\n",
    "mars_weather = find_next_siblings(\"p\",\"title\")"
   ]
  },
  {
   "cell_type": "code",
   "execution_count": 15,
   "metadata": {
    "collapsed": true
   },
   "outputs": [],
   "source": [
    "# Go to Mars facts through the target URL (https://space-facts.com/mars/)\n",
    "# Use Pandas to scrape the table containing facts about the planet including Diameter, Mass, and \n",
    "# mars_fact = []\n",
    "equatorial_diameter = soup.filled(\"\")\n",
    "equatorial_diameter = find_next_siblings(\"\")\n",
    "polar_diameter = soup.filled(\"\")\n",
    "polar_diameter = find_next_siblings(\"\")\n",
    "mass = soup.filled(\"\")\n",
    "mass = find_next_siblings(\"\")\n",
    "orbit_distance = soup.filled(\"\")\n",
    "orbit_distance = find_next_siblings(\"\")\n",
    "orbit_period = soup.filled(\"\")\n",
    "orbit_period = find_next_siblings(\"\")\n",
    "surface_temperature = soup.filled(\"\")\n",
    "surface_temperature = find_next_siblings(\"\")\n",
    "first_record = soup.filled(\"\")\n",
    "first_record = find_next_siblings(\"\")\n",
    "recorded_by = soup.filled(\"\")\n",
    "recorded_by = find_next_siblings(\"\")"
   ]
  },
  {
   "cell_type": "code",
   "execution_count": 1,
   "metadata": {
    "collapsed": true
   },
   "outputs": [],
   "source": [
    "# Go to Mars Hemisperes  (https://astrogeology.usgs.gov/search/results?q=hemisphere+enhanced&k1=target&v1=Mars)\n",
    "# Visit the USGS Astrogeology site here to obtain high resolution images\n",
    "# you will need to click each of links to the hemispheres in order to find\n",
    "# save the both image url string for the full resolution hemisphere image,and the hemisphere title containing the hemisphere name\n",
    "hemisphere_image_urls = [\n",
    "   {\"title\": \"Valles Marineris Hemisphere\",\"img_url\":\"...\"},\n",
    "   {\"title\": \"Cerberus Hemisphere\",\"img_url\":\"...\"},\n",
    "   {\"title\": \"Schiaparelli Hemisphere\",\"img_url\":\"...\"},\n",
    "   {\"title\": \"Syrtis Major Hemisphere\",\"img_url\":\"...\"},\n",
    "]"
   ]
  }
 ],
 "metadata": {
  "kernelspec": {
   "display_name": "Python [conda env:PythonData]",
   "language": "python",
   "name": "conda-env-PythonData-py"
  },
  "language_info": {
   "codemirror_mode": {
    "name": "ipython",
    "version": 3
   },
   "file_extension": ".py",
   "mimetype": "text/x-python",
   "name": "python",
   "nbconvert_exporter": "python",
   "pygments_lexer": "ipython3",
   "version": "3.6.1"
  }
 },
 "nbformat": 4,
 "nbformat_minor": 2
}
